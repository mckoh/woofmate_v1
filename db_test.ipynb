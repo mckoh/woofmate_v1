{
 "cells": [
  {
   "cell_type": "code",
   "execution_count": null,
   "id": "bf5f6607",
   "metadata": {},
   "outputs": [],
   "source": [
    "from redis import Redis\n",
    "from json import dumps, loads\n",
    "from geopy.geocoders import Nominatim\n",
    "\n",
    "\n",
    "key_value_store = Redis(\n",
    "    host='redis-12996.c293.eu-central-1-1.ec2.redns.redis-cloud.com',\n",
    "    port=12996,\n",
    "    decode_responses=True,\n",
    "    username=\"default\",\n",
    "    password=\"PRDGea93upjiOL3YO67avHVzjFbi0onD\",\n",
    ")\n",
    "\n",
    "\n",
    "def address_to_coordinates(address:tuple) -> tuple:\n",
    "    loc = Nominatim(user_agent=\"Geopy Library\")\n",
    "    getLoc = loc.geocode(\", \".join(list(address)))\n",
    "\n",
    "    return getLoc.latitude, getLoc.longitude\n",
    "\n",
    "\n",
    "def store(contact:dict) -> bool:\n",
    "    lat, long = address_to_coordinates(contact[\"address\"])\n",
    "    new = contact.copy()\n",
    "    new[\"latitude\"] = lat\n",
    "    new[\"longitude\"] = long\n",
    "\n",
    "    if contact[\"username\"] in key_value_store.keys():\n",
    "        return False\n",
    "    return key_value_store.set(new[\"username\"], dumps(new))\n",
    "\n",
    "\n",
    "def get(key:str) -> dict:\n",
    "    return key_value_store.get(key)\n"
   ]
  },
  {
   "cell_type": "code",
   "execution_count": 55,
   "id": "2b644315",
   "metadata": {},
   "outputs": [
    {
     "data": {
      "text/plain": [
       "'User already exists!'"
      ]
     },
     "execution_count": 55,
     "metadata": {},
     "output_type": "execute_result"
    }
   ],
   "source": [
    "\n",
    "contact = {\n",
    "    \"username\": \"michael.kohlegger\",\n",
    "    \"fname\": \"Michael\",\n",
    "    \"lname\": \"Kohlegger\",\n",
    "    \"address\": (\"Winkelfeldsteig 62\", \"Innsbruck\", \"6020\"),\n",
    "    \"password\": \"test123\"\n",
    "}\n",
    "\n",
    "\n",
    "store(contact)"
   ]
  },
  {
   "cell_type": "code",
   "execution_count": 56,
   "id": "d027a0ac",
   "metadata": {},
   "outputs": [
    {
     "data": {
      "text/plain": [
       "'{\"username\": \"michael.kohlegger\", \"fname\": \"Michael\", \"lname\": \"Kohlegger\", \"address\": [\"Winkelfeldsteig 62\", \"Innsbruck\", \"6020\"], \"password\": \"test123\", \"latitude\": 47.257801, \"longitude\": 11.4291948}'"
      ]
     },
     "execution_count": 56,
     "metadata": {},
     "output_type": "execute_result"
    }
   ],
   "source": [
    "get(\"michael.kohlegger\")"
   ]
  },
  {
   "cell_type": "code",
   "execution_count": 57,
   "id": "92778fa7",
   "metadata": {},
   "outputs": [
    {
     "data": {
      "text/plain": [
       "['foo', 'michael.kohlegger']"
      ]
     },
     "execution_count": 57,
     "metadata": {},
     "output_type": "execute_result"
    }
   ],
   "source": [
    "key_value_store.keys()"
   ]
  },
  {
   "cell_type": "code",
   "execution_count": null,
   "id": "f2f8f502",
   "metadata": {},
   "outputs": [],
   "source": [
    "key"
   ]
  }
 ],
 "metadata": {
  "kernelspec": {
   "display_name": "Python 3",
   "language": "python",
   "name": "python3"
  },
  "language_info": {
   "codemirror_mode": {
    "name": "ipython",
    "version": 3
   },
   "file_extension": ".py",
   "mimetype": "text/x-python",
   "name": "python",
   "nbconvert_exporter": "python",
   "pygments_lexer": "ipython3",
   "version": "3.13.0"
  }
 },
 "nbformat": 4,
 "nbformat_minor": 5
}
